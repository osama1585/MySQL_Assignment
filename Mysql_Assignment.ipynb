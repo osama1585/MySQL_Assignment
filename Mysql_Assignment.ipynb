{
 "cells": [
  {
   "cell_type": "markdown",
   "metadata": {},
   "source": []
  },
  {
   "cell_type": "markdown",
   "metadata": {},
   "source": [
    " ***MySQL ASSIGNMENT***"
   ]
  },
  {
   "cell_type": "markdown",
   "metadata": {},
   "source": [
    "Q1. What is a database? Differentiate between SQL and NoSQL databases."
   ]
  },
  {
   "cell_type": "markdown",
   "metadata": {},
   "source": [
    "Ans-"
   ]
  },
  {
   "cell_type": "markdown",
   "metadata": {},
   "source": [
    "***Database:***"
   ]
  },
  {
   "cell_type": "markdown",
   "metadata": {},
   "source": [
    "A database is a structured data storage system used for efficient data retrieval, management, and manipulation."
   ]
  },
  {
   "cell_type": "markdown",
   "metadata": {},
   "source": [
    "***SQL database:***"
   ]
  },
  {
   "cell_type": "markdown",
   "metadata": {},
   "source": [
    "***Data Model:*** Relational tables with fixed schemas.\n",
    "***Schema:*** Fixed schema requiring predefined table structures.\n",
    "***Query Language:*** Standardized SQL for complex queries.\n",
    "***Scalability:*** Vertical scaling, adding resources to a single server.\n",
    "***Use Cases:*** Structured data applications like finance and e-commerce.\n",
    "***Consistency and ACID:*** Strong consistency with ACID properties."
   ]
  },
  {
   "cell_type": "markdown",
   "metadata": {},
   "source": [
    "***NoSQL Database:***"
   ]
  },
  {
   "cell_type": "markdown",
   "metadata": {},
   "source": [
    "***Data Model:*** Various models (document, key-value, etc.) with dynamic schemas.\n",
    "***Schema:*** Dynamic schema for flexible data storage.\n",
    "***Query Language:*** Specific query languages or APIs for each model.\n",
    "***Scalability:*** Horizontal scaling, adding servers to a distributed cluster.\n",
    "***Use Cases:*** Unstructured or rapidly evolving data in applications like IoT and real-time analytics.\n",
    "***Consistency:*** May prioritize availability and partition tolerance over strict consistency."
   ]
  },
  {
   "cell_type": "markdown",
   "metadata": {},
   "source": [
    "Q2. What is DDL? Explain why CREATE, DROP, ALTER, and TRUNCATE are used with an example."
   ]
  },
  {
   "cell_type": "markdown",
   "metadata": {},
   "source": [
    "Ans-"
   ]
  },
  {
   "cell_type": "markdown",
   "metadata": {},
   "source": [
    "DDL stands for Data Definition Language. It is a computer language that is used to create and modify the structure of database objects. These objects include tables, schemas, views, and indexes."
   ]
  },
  {
   "cell_type": "markdown",
   "metadata": {},
   "source": [
    "***Create:***"
   ]
  },
  {
   "cell_type": "markdown",
   "metadata": {},
   "source": [
    "The CREATE statement is used to create new database objects, such as tables, indexes, and views."
   ]
  },
  {
   "cell_type": "code",
   "execution_count": null,
   "metadata": {},
   "outputs": [],
   "source": [
    "pip install ipython-sql\n"
   ]
  },
  {
   "cell_type": "code",
   "execution_count": 3,
   "metadata": {},
   "outputs": [],
   "source": [
    "%load_ext sql\n"
   ]
  },
  {
   "cell_type": "code",
   "execution_count": 4,
   "metadata": {},
   "outputs": [
    {
     "name": "stderr",
     "output_type": "stream",
     "text": [
      "UsageError: %%sql is a cell magic, but the cell body is empty. Did you mean the line magic %sql (single %)?\n"
     ]
    }
   ],
   "source": [
    "%%sql sqlite:///mydatabase.db\n"
   ]
  },
  {
   "cell_type": "code",
   "execution_count": 5,
   "metadata": {},
   "outputs": [],
   "source": [
    "import mysql.connector\n",
    "\n"
   ]
  },
  {
   "cell_type": "code",
   "execution_count": 7,
   "metadata": {},
   "outputs": [],
   "source": [
    "mydb1=mysql.connector.Connect(host=\"localhost\" , user=\"abc\" , password=\"password\" , database=\"mydatabase\")\n",
    "\n",
    "\n",
    "\n"
   ]
  },
  {
   "cell_type": "code",
   "execution_count": 8,
   "metadata": {},
   "outputs": [],
   "source": [
    "# Create a cursor object\n",
    "cursor = mydb1.cursor()\n"
   ]
  },
  {
   "cell_type": "code",
   "execution_count": 9,
   "metadata": {},
   "outputs": [],
   "source": [
    "create_table_query = \"\"\"\n",
    "CREATE TABLE employees (\n",
    "    employee_id INT PRIMARY KEY,\n",
    "    first_name VARCHAR(50),\n",
    "    last_name VARCHAR(50),\n",
    "    hire_date DATE\n",
    ");\n",
    "\"\"\""
   ]
  },
  {
   "cell_type": "code",
   "execution_count": null,
   "metadata": {},
   "outputs": [],
   "source": [
    "cursor.execute(create_table_query)"
   ]
  },
  {
   "cell_type": "markdown",
   "metadata": {},
   "source": [
    "***DROP:***"
   ]
  },
  {
   "cell_type": "markdown",
   "metadata": {},
   "source": [
    "Purpose: The DROP statement is used to delete an existing database object like a table, index, view, or schema.\n",
    "\n",
    "Example: Dropping the employees table:"
   ]
  },
  {
   "cell_type": "code",
   "execution_count": 11,
   "metadata": {},
   "outputs": [],
   "source": [
    "drop_table_query = \"DROP TABLE IF EXISTS employees;\"\n"
   ]
  },
  {
   "cell_type": "code",
   "execution_count": 12,
   "metadata": {},
   "outputs": [],
   "source": [
    "cursor.execute(drop_table_query)"
   ]
  },
  {
   "cell_type": "markdown",
   "metadata": {},
   "source": [
    "***ALTER:***"
   ]
  },
  {
   "cell_type": "markdown",
   "metadata": {},
   "source": [
    "Purpose: The ALTER statement is used to modify an existing database object. It can be used to add, modify, or delete columns, constraints, or indexes.\n",
    "\n",
    "Example: Adding a new column department to the employees table:"
   ]
  },
  {
   "cell_type": "code",
   "execution_count": 1,
   "metadata": {},
   "outputs": [],
   "source": [
    "create_table_query = \"\"\"\n",
    "CREATE TABLE employees2 (\n",
    "    employee_id INT PRIMARY KEY,\n",
    "    first_name VARCHAR(50),\n",
    "    last_name VARCHAR(50)\n",
    ");\n",
    "\"\"\""
   ]
  },
  {
   "cell_type": "code",
   "execution_count": null,
   "metadata": {},
   "outputs": [],
   "source": [
    "cursor.execute(create_table_query)"
   ]
  },
  {
   "cell_type": "code",
   "execution_count": 35,
   "metadata": {},
   "outputs": [],
   "source": [
    "alter_table=\"ALTER TABLE employees2 ADD COLUMN department VARCHAR(50);\"\n",
    "cursor.execute(alter_table)"
   ]
  },
  {
   "cell_type": "markdown",
   "metadata": {},
   "source": [
    "***TRUNCATE:***"
   ]
  },
  {
   "cell_type": "markdown",
   "metadata": {},
   "source": [
    "Purpose: The TRUNCATE statement is used to remove all rows from a table while retaining the table structure. It's a faster way to delete all data compared to using DELETE without a WHERE clause.\n",
    "\n",
    "Example: Truncating the employees table:"
   ]
  },
  {
   "cell_type": "code",
   "execution_count": 45,
   "metadata": {},
   "outputs": [],
   "source": [
    "cursor.execute(\"insert into employees2 (employee_id,first_name,last_name,department)VALUES(229 , 'MOHD' , 'OSAMA' ,  'data') \")"
   ]
  },
  {
   "cell_type": "code",
   "execution_count": 43,
   "metadata": {},
   "outputs": [],
   "source": [
    "mydb1.commit()"
   ]
  },
  {
   "cell_type": "code",
   "execution_count": 46,
   "metadata": {},
   "outputs": [],
   "source": [
    "truncate_table=\"TRUNCATE TABLE employees2\"\n",
    "cursor.execute(truncate_table)"
   ]
  },
  {
   "cell_type": "code",
   "execution_count": 47,
   "metadata": {},
   "outputs": [],
   "source": [
    "\n",
    "cursor.close()\n",
    "mydb1.close()"
   ]
  },
  {
   "cell_type": "markdown",
   "metadata": {},
   "source": [
    "Q3. What is DML? Explain INSERT, UPDATE, and DELETE with an example."
   ]
  },
  {
   "cell_type": "markdown",
   "metadata": {},
   "source": [
    "Ans-"
   ]
  },
  {
   "cell_type": "markdown",
   "metadata": {},
   "source": [
    "DML stands for Data Manipulation Language, which is a subset of SQL (Structured Query Language) used for managing data within a relational database management system (RDBMS). DML is primarily concerned with the manipulation of data stored in database tables. There are three main DML operations: INSERT, UPDATE, and DELETE."
   ]
  },
  {
   "cell_type": "markdown",
   "metadata": {},
   "source": [
    "***INSERT:***"
   ]
  },
  {
   "cell_type": "markdown",
   "metadata": {},
   "source": [
    "The INSERT statement is used to add new records (rows) to a database table."
   ]
  },
  {
   "cell_type": "code",
   "execution_count": 48,
   "metadata": {},
   "outputs": [
    {
     "name": "stdout",
     "output_type": "stream",
     "text": [
      "The sql extension is already loaded. To reload it, use:\n",
      "  %reload_ext sql\n"
     ]
    }
   ],
   "source": [
    "%load_ext sql\n",
    "\n",
    "\n"
   ]
  },
  {
   "cell_type": "code",
   "execution_count": 49,
   "metadata": {},
   "outputs": [],
   "source": [
    "mydb2=mysql.connector.Connect(host=\"localhost\" , user=\"abc\" , password=\"password\" , database=\"mydatabase\")\n"
   ]
  },
  {
   "cell_type": "code",
   "execution_count": 50,
   "metadata": {},
   "outputs": [],
   "source": [
    "cursor=mydb2.cursor()"
   ]
  },
  {
   "cell_type": "code",
   "execution_count": 54,
   "metadata": {},
   "outputs": [],
   "source": [
    "cursor.execute(\"insert into employees2 values(225 , 'MOHD' , 'OSAMA' , 'DATA SCIENCE' ) \")\n",
    "mydb2.commit()\n",
    "mydb2.close()"
   ]
  },
  {
   "cell_type": "markdown",
   "metadata": {},
   "source": [
    "***UPDATE:***"
   ]
  },
  {
   "cell_type": "markdown",
   "metadata": {},
   "source": [
    "The UPDATE statement is used to modify existing records in a database table."
   ]
  },
  {
   "cell_type": "code",
   "execution_count": 13,
   "metadata": {},
   "outputs": [],
   "source": [
    "mydb2=mysql.connector.Connect(host=\"localhost\" , user=\"abc\" , password=\"password\" , database=\"mydatabase\")"
   ]
  },
  {
   "cell_type": "code",
   "execution_count": 14,
   "metadata": {},
   "outputs": [],
   "source": [
    "cursor=mydb2.cursor()"
   ]
  },
  {
   "cell_type": "code",
   "execution_count": 15,
   "metadata": {},
   "outputs": [],
   "source": [
    "\n",
    "updates=\"UPDATE employees2 SET first_name='mohammad' WHERE first_name='mohd'\"\n",
    "\n",
    "\n",
    "\n",
    "cursor.execute(updates)\n",
    "mydb2.commit()\n"
   ]
  },
  {
   "cell_type": "markdown",
   "metadata": {},
   "source": [
    "***DELETE:***"
   ]
  },
  {
   "cell_type": "markdown",
   "metadata": {},
   "source": [
    "The DELETE statement is used to remove records from a database table.\n",
    "\n"
   ]
  },
  {
   "cell_type": "code",
   "execution_count": 16,
   "metadata": {},
   "outputs": [],
   "source": [
    "mydb2=mysql.connector.Connect(host=\"localhost\", user=\"abc\", password=\"password\", database=\"mydatabase\")\n",
    "cursor=mydb2.cursor()\n",
    "\n"
   ]
  },
  {
   "cell_type": "code",
   "execution_count": 18,
   "metadata": {},
   "outputs": [],
   "source": [
    "delete_query = \"\"\"\n",
    "DELETE FROM employees2\n",
    "WHERE employee_id = 225;\n",
    "\"\"\"\n",
    "cursor.execute(delete_query)\n",
    "mydb2.commit()\n",
    "mydb2.close()"
   ]
  },
  {
   "cell_type": "markdown",
   "metadata": {},
   "source": [
    "Q4. What is DQL? Explain SELECT with an example."
   ]
  },
  {
   "cell_type": "markdown",
   "metadata": {},
   "source": [
    "Ans-"
   ]
  },
  {
   "cell_type": "markdown",
   "metadata": {},
   "source": [
    "DQL stands for Data Query Language, and it is a subset of SQL (Structured Query Language) that is specifically focused on retrieving data from a database. DQL is primarily concerned with the SELECT statement, which is used to query data from one or more database tables.\n",
    "\n",
    "Here's an explanation of the SELECT statement with an example:"
   ]
  },
  {
   "cell_type": "markdown",
   "metadata": {},
   "source": [
    "***SELECT Statement:***"
   ]
  },
  {
   "cell_type": "markdown",
   "metadata": {},
   "source": [
    "The SELECT statement is used to retrieve data from one or more database tables. It allows you to specify which columns you want to retrieve, the table(s) from which you want to retrieve data, and optional filtering and sorting criteria. The basic syntax of a SELECT statement is as follows:"
   ]
  },
  {
   "cell_type": "code",
   "execution_count": 31,
   "metadata": {},
   "outputs": [],
   "source": [
    "cursor=mydb2.cursor()"
   ]
  },
  {
   "cell_type": "code",
   "execution_count": 32,
   "metadata": {},
   "outputs": [],
   "source": [
    "mydb2=mysql.connector.Connect(host=\"localhost\", user=\"abc\", password=\"password\", database=\"mydatabase\")\n",
    "cursor=mydb2.cursor()"
   ]
  },
  {
   "cell_type": "code",
   "execution_count": 33,
   "metadata": {},
   "outputs": [],
   "source": [
    "import sqlite3\n",
    "\n",
    "# Create a database connection (or open an existing one)\n",
    "conn = sqlite3.connect('mydatabase.db')\n",
    "\n",
    "# Create a cursor object to execute SQL commands\n",
    "cursor = conn.cursor()"
   ]
  },
  {
   "cell_type": "code",
   "execution_count": 39,
   "metadata": {},
   "outputs": [
    {
     "data": {
      "text/plain": [
       "<sqlite3.Cursor at 0x7f79fc08c490>"
      ]
     },
     "execution_count": 39,
     "metadata": {},
     "output_type": "execute_result"
    }
   ],
   "source": [
    "\n",
    "# Create a table\n",
    "cursor.execute('''\n",
    "    CREATE TABLE employees7 (\n",
    "        employee_id INTEGER PRIMARY KEY,\n",
    "        first_name TEXT,\n",
    "        last_name TEXT,\n",
    "        job_title TEXT,\n",
    "        salary REAL\n",
    "    )\n",
    "''')"
   ]
  },
  {
   "cell_type": "code",
   "execution_count": 40,
   "metadata": {},
   "outputs": [
    {
     "data": {
      "text/plain": [
       "<sqlite3.Cursor at 0x7f79fc08c490>"
      ]
     },
     "execution_count": 40,
     "metadata": {},
     "output_type": "execute_result"
    }
   ],
   "source": [
    "\n",
    "\n",
    "# Insert data into the table\n",
    "cursor.execute(\"INSERT INTO employees7 (first_name, last_name, job_title, salary) VALUES (?, ?, ?, ?)\",\n",
    "               ('mohd', 'yasir', 'data_analyst', 75000))\n",
    "cursor.execute(\"INSERT INTO employees7 (first_name, last_name, job_title, salary) VALUES (?, ?, ?, ?)\",\n",
    "               ('mohd', 'osama', 'Data Analyst', 60000))"
   ]
  },
  {
   "cell_type": "code",
   "execution_count": 41,
   "metadata": {},
   "outputs": [],
   "source": [
    "mydb2.commit()\n"
   ]
  },
  {
   "cell_type": "code",
   "execution_count": 43,
   "metadata": {},
   "outputs": [
    {
     "name": "stdout",
     "output_type": "stream",
     "text": [
      "(1, 'mohd', 'yasir', 'data_analyst', 75000.0)\n",
      "(2, 'mohd', 'osama', 'Data Analyst', 60000.0)\n"
     ]
    }
   ],
   "source": [
    "cursor.execute('SELECT * FROM employees7')\n",
    "\n",
    "\n",
    "rows = cursor.fetchall()\n",
    "for row in rows:\n",
    "    print(row)"
   ]
  },
  {
   "cell_type": "code",
   "execution_count": 49,
   "metadata": {},
   "outputs": [
    {
     "name": "stdout",
     "output_type": "stream",
     "text": [
      "('mohd', 'yasir')\n",
      "('mohd', 'osama')\n"
     ]
    }
   ],
   "source": [
    "# here select statement using\n",
    "cursor.execute(\"SELECT first_name,last_name FROM employees7 WHERE salary >50000 \")\n",
    "rows = cursor.fetchall()\n",
    "for i in rows:\n",
    "    print(i)\n"
   ]
  },
  {
   "cell_type": "code",
   "execution_count": 50,
   "metadata": {},
   "outputs": [],
   "source": [
    "mydb2.close()"
   ]
  },
  {
   "cell_type": "markdown",
   "metadata": {},
   "source": [
    "Q5. Explain Primary Key and Foreign Key."
   ]
  },
  {
   "cell_type": "markdown",
   "metadata": {},
   "source": [
    "Ans-"
   ]
  },
  {
   "cell_type": "markdown",
   "metadata": {},
   "source": [
    "Primary Key and Foreign Key are two important concepts in relational databases, and they define the relationships between tables and ensure data integrity."
   ]
  },
  {
   "cell_type": "markdown",
   "metadata": {},
   "source": [
    "***PRIMARY KEY:***"
   ]
  },
  {
   "cell_type": "markdown",
   "metadata": {},
   "source": [
    "A Primary Key is a column (or a set of columns) in a database table that uniquely identifies each row in that table.\n",
    "It ensures that each row in the table has a unique identifier, and it prevents duplicate records.\n",
    "A Primary Key column cannot contain NULL values because NULL is not a unique identifier.\n",
    "In most database systems, Primary Keys are automatically indexed, which helps in faster data retrieval."
   ]
  },
  {
   "cell_type": "markdown",
   "metadata": {},
   "source": [
    "***FOREIGN KEY:***"
   ]
  },
  {
   "cell_type": "markdown",
   "metadata": {},
   "source": [
    "A Foreign Key is a column or a set of columns in a table that is used to establish a link between the data in two tables.\n",
    "It creates a relationship between two tables by referencing the Primary Key of another table.\n",
    "The Foreign Key in one table matches the Primary Key in another table, creating a connection between the two tables."
   ]
  },
  {
   "cell_type": "markdown",
   "metadata": {},
   "source": [
    "Q6. Write a python code to connect MySQL to python. Explain the cursor() and execute() method."
   ]
  },
  {
   "cell_type": "markdown",
   "metadata": {},
   "source": [
    "Ans-"
   ]
  },
  {
   "cell_type": "markdown",
   "metadata": {},
   "source": [
    "Connect MySQL to python"
   ]
  },
  {
   "cell_type": "code",
   "execution_count": 51,
   "metadata": {},
   "outputs": [],
   "source": [
    "import mysql.connector"
   ]
  },
  {
   "cell_type": "code",
   "execution_count": 57,
   "metadata": {},
   "outputs": [],
   "source": [
    "# connect the  sql server\n",
    "mydb2=mysql.connector.Connect(host=\"localhost\",user=\"abc\",password=\"password\",database=\"mydatabase\")"
   ]
  },
  {
   "cell_type": "code",
   "execution_count": 53,
   "metadata": {},
   "outputs": [],
   "source": [
    "cursor=mydb2.cursor()"
   ]
  },
  {
   "cell_type": "code",
   "execution_count": 55,
   "metadata": {},
   "outputs": [],
   "source": [
    "# here making table\n",
    "cursor.execute('''\n",
    "    CREATE TABLE employeee(\n",
    "        employee_id INT PRIMARY KEY,\n",
    "        fir_name TEXT,\n",
    "        last_name TEXT\n",
    "    )\n",
    "    \n",
    "''')"
   ]
  },
  {
   "cell_type": "code",
   "execution_count": 56,
   "metadata": {},
   "outputs": [
    {
     "name": "stdout",
     "output_type": "stream",
     "text": [
      "('information_schema',)\n",
      "('mydatabase',)\n",
      "('mysql',)\n",
      "('performance_schema',)\n",
      "('sys',)\n"
     ]
    }
   ],
   "source": [
    "cursor.execute(\"SHOW DATABASES\")\n",
    "for x in cursor:\n",
    "  print(x)"
   ]
  },
  {
   "cell_type": "markdown",
   "metadata": {},
   "source": [
    "***Cursor() and execute method()***"
   ]
  },
  {
   "cell_type": "markdown",
   "metadata": {},
   "source": [
    "In the context of database programming, the cursor and execute() methods are essential components for interacting with a database. They are commonly used when working with database connections in various programming languages, including Python."
   ]
  },
  {
   "cell_type": "markdown",
   "metadata": {},
   "source": [
    "***CURSOR:***"
   ]
  },
  {
   "cell_type": "markdown",
   "metadata": {},
   "source": [
    "A cursor is an object used to manage the context of a specific database operation, such as querying, inserting, updating, or deleting records in a database.\n",
    "Cursors allow you to navigate through the result sets of queries, execute SQL statements, and manage transactions."
   ]
  },
  {
   "cell_type": "markdown",
   "metadata": {},
   "source": [
    "***EXECUTE method:***"
   ]
  },
  {
   "cell_type": "markdown",
   "metadata": {},
   "source": [
    "The execute() method is a method provided by cursors (or similar database access objects) to execute SQL statements and database operations.\n",
    "It allows you to send SQL queries, data modification statements (e.g., INSERT, UPDATE, DELETE), and other database commands to the database engine."
   ]
  },
  {
   "cell_type": "markdown",
   "metadata": {},
   "source": [
    "Q7. Give the order of execution of SQL clauses in an SQL query."
   ]
  },
  {
   "cell_type": "markdown",
   "metadata": {},
   "source": [
    "Ans-"
   ]
  },
  {
   "cell_type": "markdown",
   "metadata": {},
   "source": [
    "In an SQL query, the clauses are executed in a specific order, and the order of execution is important to understand the logic of how a query is processed. The typical order of execution for SQL clauses is as follows:"
   ]
  },
  {
   "cell_type": "markdown",
   "metadata": {},
   "source": [
    "***FROM Clause***"
   ]
  },
  {
   "cell_type": "markdown",
   "metadata": {},
   "source": [
    "The FROM clause is the first clause to be executed.\n",
    "It specifies the table(s) from which data will be retrieved.\n",
    "If there are multiple tables involved (e.g., in a JOIN operation), the tables are combined as specified in the FROM clause."
   ]
  },
  {
   "cell_type": "markdown",
   "metadata": {},
   "source": [
    "***WHERE Clause***"
   ]
  },
  {
   "cell_type": "markdown",
   "metadata": {},
   "source": [
    "The WHERE clause is executed after the FROM clause.\n",
    "It filters the rows from the tables specified in the FROM clause based on a given condition."
   ]
  },
  {
   "cell_type": "markdown",
   "metadata": {},
   "source": [
    "***GROUP BY Clause***"
   ]
  },
  {
   "cell_type": "markdown",
   "metadata": {},
   "source": [
    "The GROUP BY clause is executed after the WHERE clause (if present).\n",
    "It groups the result set into sets of rows that have the same values in specified columns.\n",
    "This clause is typically used with aggregate functions (e.g., SUM, COUNT) to perform calculations on grouped data."
   ]
  },
  {
   "cell_type": "markdown",
   "metadata": {},
   "source": [
    "***HAVING Clause***"
   ]
  },
  {
   "cell_type": "markdown",
   "metadata": {},
   "source": [
    "The HAVING clause is executed after the GROUP BY clause (if present).\n",
    "It filters the groups produced by the GROUP BY clause based on a condition."
   ]
  },
  {
   "cell_type": "markdown",
   "metadata": {},
   "source": [
    "***SELECT clause***"
   ]
  },
  {
   "cell_type": "markdown",
   "metadata": {},
   "source": [
    "The SELECT clause is executed after the previous clauses (FROM, WHERE, GROUP BY, HAVING).\n",
    "It specifies which columns from the result set should be included in the output.\n",
    "It may also include expressions and calculations on columns."
   ]
  },
  {
   "cell_type": "markdown",
   "metadata": {},
   "source": [
    "***ORDER BY Clause***"
   ]
  },
  {
   "cell_type": "markdown",
   "metadata": {},
   "source": [
    "The SELECT clause is executed after the previous clauses (FROM, WHERE, GROUP BY, HAVING).\n",
    "It specifies which columns from the result set should be included in the output.\n",
    "It may also include expressions and calculations on columns."
   ]
  },
  {
   "cell_type": "markdown",
   "metadata": {},
   "source": []
  }
 ],
 "metadata": {
  "kernelspec": {
   "display_name": "Python 3.8.10 64-bit",
   "language": "python",
   "name": "python3"
  },
  "language_info": {
   "codemirror_mode": {
    "name": "ipython",
    "version": 3
   },
   "file_extension": ".py",
   "mimetype": "text/x-python",
   "name": "python",
   "nbconvert_exporter": "python",
   "pygments_lexer": "ipython3",
   "version": "3.8.10"
  },
  "orig_nbformat": 4,
  "vscode": {
   "interpreter": {
    "hash": "e7370f93d1d0cde622a1f8e1c04877d8463912d04d973331ad4851f04de6915a"
   }
  }
 },
 "nbformat": 4,
 "nbformat_minor": 2
}
